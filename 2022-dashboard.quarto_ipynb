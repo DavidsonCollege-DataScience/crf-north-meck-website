{
  "cells": [
    {
      "cell_type": "markdown",
      "metadata": {},
      "source": [
        "---\n",
        "title: \"2022 Dashboard\"\n",
        "---\n",
        "\n",
        "\n",
        "\n",
        "\n",
        "------------------------------------------------------------------------\n",
        "\n",
        "\n",
        "\n",
        "\n",
        "```{html}\n",
        "<iframe width=\"780\" height=\"500\" src=\"https://crf-dashboard.rc.davidson.edu\" title=\"Data Dashboard (2022)\"></iframe>\n",
        "```\n",
        "\n",
        "\n",
        "\n",
        "\n",
        "## → Explore the full website"
      ],
      "id": "10349712"
    }
  ],
  "metadata": {
    "kernelspec": {
      "display_name": "Python 3",
      "language": "python",
      "name": "python3"
    }
  },
  "nbformat": 4,
  "nbformat_minor": 5
}